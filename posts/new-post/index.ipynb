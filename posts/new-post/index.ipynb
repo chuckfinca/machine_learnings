{
 "cells": [
  {
   "cell_type": "markdown",
   "id": "b3b4c214",
   "metadata": {},
   "source": [
    "---\n",
    "title: New Post\n",
    "date: 2023-07-12\n",
    "description: A nice new post\n",
    "categories: [nonsense, code]\n",
    "---"
   ]
  }
 ],
 "metadata": {
  "language_info": {
   "name": "python"
  }
 },
 "nbformat": 4,
 "nbformat_minor": 5
}
